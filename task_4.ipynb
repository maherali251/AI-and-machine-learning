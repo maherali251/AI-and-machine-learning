{
  "nbformat": 4,
  "nbformat_minor": 0,
  "metadata": {
    "colab": {
      "provenance": []
    },
    "kernelspec": {
      "name": "python3",
      "display_name": "Python 3"
    },
    "language_info": {
      "name": "python"
    }
  },
  "cells": [
    {
      "cell_type": "code",
      "execution_count": null,
      "metadata": {
        "colab": {
          "base_uri": "https://localhost:8080/"
        },
        "id": "WtNmlr8u2K5K",
        "outputId": "fb1269b0-6ab5-4ebc-9560-c91404f8e8f9"
      },
      "outputs": [
        {
          "output_type": "stream",
          "name": "stderr",
          "text": [
            "/usr/local/lib/python3.12/dist-packages/huggingface_hub/utils/_auth.py:94: UserWarning: \n",
            "The secret `HF_TOKEN` does not exist in your Colab secrets.\n",
            "To authenticate with the Hugging Face Hub, create a token in your settings tab (https://huggingface.co/settings/tokens), set it as secret in your Google Colab and restart your session.\n",
            "You will be able to reuse this secret in all of your notebooks.\n",
            "Please note that authentication is recommended but still optional to access public models or datasets.\n",
            "  warnings.warn(\n",
            "Device set to use cpu\n"
          ]
        },
        {
          "output_type": "stream",
          "name": "stdout",
          "text": [
            "You:  Why do people get headaches?\n",
            "Bot: Headache is a common symptom of a variety of medical conditions.\n",
            "I’m not a doctor. General info only. If urgent, call emergency.\n"
          ]
        }
      ],
      "source": [
        "import os, re\n",
        "from openai import OpenAI\n",
        "from transformers import pipeline\n",
        "\n",
        "SAFETY = \"I’m not a doctor. General info only. If urgent, call emergency.\"\n",
        "SYS = \"You are a friendly health assistant. Never diagnose, prescribe, or give dosages.\"\n",
        "BAN = [r\"diagnos\", r\"prescrib\", r\"medicine\", r\"overdose\", r\"suicide\", r\"self[- ]harm\"]\n",
        "\n",
        "def unsafe(m): return any(re.search(p, m.lower()) for p in BAN)\n",
        "\n",
        "KEY = os.getenv(\"OPENAI_API_KEY\")\n",
        "HF = os.getenv(\"HF_MODEL\", \"google/flan-t5-base\")\n",
        "provider = \"openai\" if KEY else \"hf\"\n",
        "\n",
        "if provider==\"hf\":\n",
        "    gen = pipeline(\"text2text-generation\", model=HF)\n",
        "\n",
        "def chat(m):\n",
        "    if unsafe(m): return \"I can’t help with that. \"+SAFETY\n",
        "    if provider==\"openai\":\n",
        "        c = OpenAI(api_key=KEY)\n",
        "        r = c.chat.completions.create(model=\"gpt-4o-mini\",\n",
        "            messages=[{\"role\":\"system\",\"content\":SYS},{\"role\":\"user\",\"content\":m+\"\\n\"+SAFETY}])\n",
        "        return r.choices[0].message.content.strip()\n",
        "    out = gen(f\"{SYS}\\nUser: {m}\\nAssistant:\", max_new_tokens=200)[0][\"generated_text\"]\n",
        "    return out.strip()+\"\\n\"+SAFETY\n",
        "\n",
        "if __name__==\"__main__\":\n",
        "    while True:\n",
        "        u=input(\"You: \")\n",
        "        if u.lower() in {\"exit\",\"quit\"}: break\n",
        "        print(\"Bot:\", chat(u))\n"
      ]
    }
  ]
}